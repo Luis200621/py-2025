{
 "cells": [
  {
   "cell_type": "code",
   "execution_count": 12,
   "id": "d78bf278",
   "metadata": {},
   "outputs": [],
   "source": [
    "import pandas as pd\n",
    "import matplotlib.pyplot as plt\n"
   ]
  },
  {
   "cell_type": "code",
   "execution_count": 17,
   "id": "adb21f88",
   "metadata": {},
   "outputs": [],
   "source": [
    "df = pd.read_csv(\"Data1/Titanic-Dataset.csv\", index_col = \"PassengerId\")"
   ]
  },
  {
   "cell_type": "code",
   "execution_count": 18,
   "id": "6411e610",
   "metadata": {},
   "outputs": [],
   "source": [
    "supervivientes = df['Survived'].value_counts()\n",
    "supervivientes.index = ['Fallecidos', 'Supervivientes']"
   ]
  },
  {
   "cell_type": "code",
   "execution_count": null,
   "id": "b4d9a0b9",
   "metadata": {},
   "outputs": [
    {
     "ename": "NameError",
     "evalue": "name 'bar' is not defined",
     "output_type": "error",
     "traceback": [
      "\u001b[31m---------------------------------------------------------------------------\u001b[39m",
      "\u001b[31mNameError\u001b[39m                                 Traceback (most recent call last)",
      "\u001b[36mCell\u001b[39m\u001b[36m \u001b[39m\u001b[32mIn[22]\u001b[39m\u001b[32m, line 1\u001b[39m\n\u001b[32m----> \u001b[39m\u001b[32m1\u001b[39m \u001b[43mbar\u001b[49m[supervivientes]\n",
      "\u001b[31mNameError\u001b[39m: name 'bar' is not defined"
     ]
    }
   ],
   "source": [
    "plt.Figure(figsize=(6 , 4))\n",
    "supervivientes.plot(kind='bar', color=['Red', 'green'])\n",
    "\n",
    "plt.title('Supervivientes V/S Fallecidos')\n",
    "plt.xlabel('Estado')\n",
    "plt.ylabel('Cantidad de personas')\n",
    "plt.xticks(rotation=0)\n",
    "\n"
   ]
  }
 ],
 "metadata": {
  "kernelspec": {
   "display_name": "Python 3",
   "language": "python",
   "name": "python3"
  },
  "language_info": {
   "codemirror_mode": {
    "name": "ipython",
    "version": 3
   },
   "file_extension": ".py",
   "mimetype": "text/x-python",
   "name": "python",
   "nbconvert_exporter": "python",
   "pygments_lexer": "ipython3",
   "version": "3.13.5"
  }
 },
 "nbformat": 4,
 "nbformat_minor": 5
}
