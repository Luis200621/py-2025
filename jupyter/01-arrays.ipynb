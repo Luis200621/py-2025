{
  "cells": [
    {
      "cell_type": "markdown",
      "metadata": {
        "id": "NQW44iDpba82"
      },
      "source": [
        "### **IMPORTANDO LIBRERÍAS**"
      ]
    },
    {
      "cell_type": "code",
      "execution_count": 1,
      "metadata": {
        "id": "2w3Y0HvsbHWO"
      },
      "outputs": [],
      "source": [
        "import numpy as np # el np es un alias del nombre de la biblioteca numpy\n",
        "import sys # este paquete maneja funciones del sistema, al ser corto no es necesario darle un alias"
      ]
    },
    {
      "cell_type": "markdown",
      "metadata": {
        "id": "Bo3C0IkKhxkC"
      },
      "source": [
        "### **Creando una lista de 10 elementos**"
      ]
    },
    {
      "cell_type": "code",
      "execution_count": 21,
      "metadata": {
        "colab": {
          "base_uri": "https://localhost:8080/"
        },
        "id": "U4biRUjzhpeg",
        "outputId": "461eb4dc-833c-481c-d4cd-0ebd4a55c338"
      },
      "outputs": [
        {
          "data": {
            "text/plain": [
              "[1, 2, 3, 4, 5, 6, 7, 8, 9, 10]"
            ]
          },
          "execution_count": 21,
          "metadata": {},
          "output_type": "execute_result"
        }
      ],
      "source": [
        "lista1 = list(range(1, 11))\n",
        "lista1"
      ]
    },
    {
      "cell_type": "markdown",
      "metadata": {
        "id": "4nnUjfWfiMVp"
      },
      "source": [
        "### **Transformado la lista a un Array**\n",
        "\n",
        "recordar que un `array` es una estructura propia de la librería numpy."
      ]
    },
    {
      "cell_type": "code",
      "execution_count": 3,
      "metadata": {
        "colab": {
          "base_uri": "https://localhost:8080/"
        },
        "id": "7gePhhiVho71",
        "outputId": "f6a58929-4077-4de3-8277-805d51cd3b59"
      },
      "outputs": [
        {
          "data": {
            "text/plain": [
              "array([ 1,  2,  3,  4,  5,  6,  7,  8,  9, 10])"
            ]
          },
          "execution_count": 3,
          "metadata": {},
          "output_type": "execute_result"
        }
      ],
      "source": [
        "arreglo = np.array(lista1)\n",
        "arreglo"
      ]
    },
    {
      "cell_type": "markdown",
      "metadata": {
        "id": "0pIf9ynbuWVA"
      },
      "source": [
        "### **Consultando el tipo de dato númerico del arreglo**"
      ]
    },
    {
      "cell_type": "code",
      "execution_count": 4,
      "metadata": {
        "colab": {
          "base_uri": "https://localhost:8080/"
        },
        "id": "VmkDq3lyuJ3A",
        "outputId": "162a8d2a-7d45-4aee-9bba-88de3b50bba7"
      },
      "outputs": [
        {
          "data": {
            "text/plain": [
              "dtype('int64')"
            ]
          },
          "execution_count": 4,
          "metadata": {},
          "output_type": "execute_result"
        }
      ],
      "source": [
        "arreglo.dtype"
      ]
    },
    {
      "cell_type": "markdown",
      "metadata": {
        "id": "Vu4m5DHmrkyj"
      },
      "source": [
        "### **Crear una lista de solo números uno y cero**\n",
        "\n"
      ]
    },
    {
      "cell_type": "code",
      "execution_count": 5,
      "metadata": {
        "colab": {
          "base_uri": "https://localhost:8080/"
        },
        "id": "EJAMTsaUqw01",
        "outputId": "9f15b2f2-3bf2-40ce-8607-6b64351c0706"
      },
      "outputs": [
        {
          "data": {
            "text/plain": [
              "array([1., 1., 1., 1., 1., 1., 1., 1., 1., 1., 1., 1., 1., 1., 1., 1., 1.,\n",
              "       1., 1., 1., 1., 1., 1., 1., 1., 1., 1., 1., 1., 1., 1., 1., 1., 1.,\n",
              "       1., 1., 1., 1., 1., 1., 1., 1., 1., 1., 1., 1., 1., 1., 1., 1., 1.,\n",
              "       1., 1., 1., 1., 1., 1., 1., 1., 1., 1., 1., 1., 1., 1., 1., 1., 1.,\n",
              "       1., 1., 1., 1., 1., 1., 1., 1., 1., 1., 1., 1., 1., 1., 1., 1., 1.,\n",
              "       1., 1., 1., 1., 1., 1., 1., 1., 1., 1., 1., 1., 1., 1., 1.])"
            ]
          },
          "execution_count": 5,
          "metadata": {},
          "output_type": "execute_result"
        }
      ],
      "source": [
        "unos = np.ones(100)\n",
        "unos"
      ]
    },
    {
      "cell_type": "code",
      "execution_count": 6,
      "metadata": {
        "colab": {
          "base_uri": "https://localhost:8080/"
        },
        "id": "Zkx0KVVgrtL3",
        "outputId": "bf7357e4-9105-4e85-f93a-bead3ca4c58c"
      },
      "outputs": [
        {
          "data": {
            "text/plain": [
              "array([0., 0., 0., 0., 0., 0., 0., 0., 0., 0., 0., 0., 0., 0., 0., 0., 0.,\n",
              "       0., 0., 0., 0., 0., 0., 0., 0., 0., 0., 0., 0., 0., 0., 0., 0., 0.,\n",
              "       0., 0., 0., 0., 0., 0., 0., 0., 0., 0., 0., 0., 0., 0., 0., 0., 0.,\n",
              "       0., 0., 0., 0., 0., 0., 0., 0., 0., 0., 0., 0., 0., 0., 0., 0., 0.,\n",
              "       0., 0., 0., 0., 0., 0., 0., 0., 0., 0., 0., 0., 0., 0., 0., 0., 0.,\n",
              "       0., 0., 0., 0., 0., 0., 0., 0., 0., 0., 0., 0., 0., 0., 0.])"
            ]
          },
          "execution_count": 6,
          "metadata": {},
          "output_type": "execute_result"
        }
      ],
      "source": [
        "ceros = np.zeros(100)\n",
        "ceros"
      ]
    },
    {
      "cell_type": "markdown",
      "metadata": {
        "id": "fpHCElpFvZYX"
      },
      "source": [
        "### **Lista de Datos Compuestos (Transformando a Array)**"
      ]
    },
    {
      "cell_type": "code",
      "execution_count": 7,
      "metadata": {
        "colab": {
          "base_uri": "https://localhost:8080/"
        },
        "id": "nZ_NqzP7viqV",
        "outputId": "279c814c-93d6-4a6f-a99c-c9bdffac7f94"
      },
      "outputs": [
        {
          "data": {
            "text/plain": [
              "['Victor', 2, 5.6, True]"
            ]
          },
          "execution_count": 7,
          "metadata": {},
          "output_type": "execute_result"
        }
      ],
      "source": [
        "lista2 = ['Victor', 2, 5.6, True]\n",
        "lista2"
      ]
    },
    {
      "cell_type": "markdown",
      "metadata": {
        "id": "htyDF2qCzTKx"
      },
      "source": [
        "### **Transformando la lista en Array**"
      ]
    },
    {
      "cell_type": "code",
      "execution_count": 8,
      "metadata": {
        "id": "N7B3Xm_tzNrt"
      },
      "outputs": [
        {
          "data": {
            "text/plain": [
              "array(['Victor', '2', '5.6', 'True'], dtype='<U32')"
            ]
          },
          "execution_count": 8,
          "metadata": {},
          "output_type": "execute_result"
        }
      ],
      "source": [
        "arreglo2 = np.array(lista2)\n",
        "arreglo2"
      ]
    },
    {
      "cell_type": "markdown",
      "metadata": {
        "id": "h9Ke7-AQwQyL"
      },
      "source": [
        "### **Consultando la cantidad de memoria ocupada por estructura (Paquete Sys)**"
      ]
    },
    {
      "cell_type": "code",
      "execution_count": 9,
      "metadata": {
        "colab": {
          "base_uri": "https://localhost:8080/"
        },
        "id": "fZEnCuhSwYU1",
        "outputId": "3426a8c1-b657-4e6a-82de-2bad0cbe6855"
      },
      "outputs": [
        {
          "name": "stdout",
          "output_type": "stream",
          "text": [
            "Memoria ocupada por la lista: 136 bytes\n",
            "Memoria ocupada por el array: 80 bytes\n"
          ]
        }
      ],
      "source": [
        "memoria_lista = sys.getsizeof(lista1)\n",
        "memoria_arreglo = arreglo.nbytes\n",
        "\n",
        "print(f\"Memoria ocupada por la lista: {memoria_lista} bytes\")\n",
        "print(f\"Memoria ocupada por el array: {memoria_arreglo} bytes\")"
      ]
    },
    {
      "cell_type": "markdown",
      "metadata": {
        "id": "8rgvg28vxkfR"
      },
      "source": [
        "### **Otros métodos de Numpy**"
      ]
    },
    {
      "cell_type": "code",
      "execution_count": 10,
      "metadata": {
        "colab": {
          "base_uri": "https://localhost:8080/"
        },
        "id": "ltvrPwO2wzNJ",
        "outputId": "7432da58-767c-467a-e3dc-9e5e934363e9"
      },
      "outputs": [
        {
          "name": "stdout",
          "output_type": "stream",
          "text": [
            "Shape: (10,)\n",
            "Dimensiones: 1\n",
            "Tamaño: 10\n",
            "Tipo de Dato: int64\n",
            "Bytes/elem: 8\n"
          ]
        }
      ],
      "source": [
        "print(\"Shape:\", arreglo.shape)         # Dimensiones\n",
        "print(\"Dimensiones:\", arreglo.ndim)    # Número de ejes\n",
        "print(\"Tamaño:\", arreglo.size)         # Tipo de Tamaño\n",
        "print(\"Tipo de Dato:\", arreglo.dtype)  # Tamaño de almacenamiento\n",
        "print(\"Bytes/elem:\", arreglo.itemsize) # Tamaño en bytes de cada elemento"
      ]
    },
    {
      "cell_type": "markdown",
      "metadata": {
        "id": "Msz5w9U3yMVb"
      },
      "source": [
        "### **Obteniendo el Promedio del Arreglo**"
      ]
    },
    {
      "cell_type": "code",
      "execution_count": 23,
      "metadata": {
        "colab": {
          "base_uri": "https://localhost:8080/"
        },
        "id": "LPLNQuMwyGLa",
        "outputId": "8d30bf46-b7c6-4c12-f11c-8b7650136705"
      },
      "outputs": [
        {
          "data": {
            "text/plain": [
              "np.float64(5.5)"
            ]
          },
          "execution_count": 23,
          "metadata": {},
          "output_type": "execute_result"
        }
      ],
      "source": [
        "promedio = np.mean(lista1)\n",
        "promedio"
      ]
    },
    {
      "cell_type": "markdown",
      "metadata": {
        "id": "IRKG1Ogmyb52"
      },
      "source": [
        "### **Transformando el Arreglo de Int a Float**\n",
        "\n",
        "El método astype() transforma los elementos"
      ]
    },
    {
      "cell_type": "code",
      "execution_count": 25,
      "metadata": {
        "colab": {
          "base_uri": "https://localhost:8080/"
        },
        "id": "IdZoW4x_yLKz",
        "outputId": "204e9989-2619-4889-89bd-f0222dc51885"
      },
      "outputs": [
        {
          "data": {
            "text/plain": [
              "array([ 1.,  2.,  3.,  4.,  5.,  6.,  7.,  8.,  9., 10.], dtype=float16)"
            ]
          },
          "execution_count": 25,
          "metadata": {},
          "output_type": "execute_result"
        }
      ],
      "source": [
        "new_arreglo = arreglo.astype(np.float16) # Se puede especificar el tipo de n° flotante (float16, float32, float64, etc.)\n",
        "new_arreglo"
      ]
    },
    {
      "cell_type": "markdown",
      "metadata": {
        "id": "xF-5m9jwz7Oa"
      },
      "source": [
        "### **Aplicando el Paquete Random**\n",
        "\n",
        "Se genera una lista de números enteros aleatorios, que van del 1 al 100"
      ]
    },
    {
      "cell_type": "code",
      "execution_count": 13,
      "metadata": {
        "colab": {
          "base_uri": "https://localhost:8080/"
        },
        "id": "DnNia8_X0LHZ",
        "outputId": "54352518-5220-4745-aee5-8f8ec868c7c8"
      },
      "outputs": [
        {
          "data": {
            "text/plain": [
              "0.6179311134371126"
            ]
          },
          "execution_count": 13,
          "metadata": {},
          "output_type": "execute_result"
        }
      ],
      "source": [
        "np.random.rand() # genera números aleatorios del rango [0,1]"
      ]
    },
    {
      "cell_type": "code",
      "execution_count": 14,
      "metadata": {
        "colab": {
          "base_uri": "https://localhost:8080/"
        },
        "id": "adbpkakG1IzL",
        "outputId": "2845aa82-dae0-4ef2-8653-7d5dd247f674"
      },
      "outputs": [
        {
          "data": {
            "text/plain": [
              "array([0.86077363, 0.73939963, 0.18510261, 0.03939762, 0.61357965])"
            ]
          },
          "execution_count": 14,
          "metadata": {},
          "output_type": "execute_result"
        }
      ],
      "source": [
        "np.random.rand(5) # genera números aleatorios del rango [0,1], pero en este caso n cantidad"
      ]
    },
    {
      "cell_type": "code",
      "execution_count": 15,
      "metadata": {
        "colab": {
          "base_uri": "https://localhost:8080/"
        },
        "id": "gSirorGc0ERN",
        "outputId": "2cbc8fc6-c3ba-4009-88f2-ba58e80aa386"
      },
      "outputs": [
        {
          "data": {
            "text/plain": [
              "4"
            ]
          },
          "execution_count": 15,
          "metadata": {},
          "output_type": "execute_result"
        }
      ],
      "source": [
        "np.random.randint(10) # genera números enteros aleatorios del rango [1,10]"
      ]
    },
    {
      "cell_type": "code",
      "execution_count": 16,
      "metadata": {
        "colab": {
          "base_uri": "https://localhost:8080/"
        },
        "id": "RoZkp6bq1As5",
        "outputId": "266937af-54a3-4d27-9b66-56bfa1b462db"
      },
      "outputs": [
        {
          "data": {
            "text/plain": [
              "array([[[0.61884504, 0.18645726, 0.19989626, 0.97502397],\n",
              "        [0.27015497, 0.92806036, 0.07670052, 0.16007426],\n",
              "        [0.49943785, 0.24297855, 0.0943347 , 0.37362899],\n",
              "        [0.0382593 , 0.29569308, 0.19165235, 0.36903841],\n",
              "        [0.76980048, 0.3491715 , 0.15460117, 0.42550097],\n",
              "        [0.50143994, 0.32955008, 0.39172174, 0.48086716],\n",
              "        [0.39298557, 0.56028245, 0.80885791, 0.35980409],\n",
              "        [0.03478815, 0.31203067, 0.34968499, 0.16828456],\n",
              "        [0.84334006, 0.35372987, 0.67569472, 0.5750583 ],\n",
              "        [0.65919124, 0.61978975, 0.94005994, 0.83961385]]])"
            ]
          },
          "execution_count": 16,
          "metadata": {},
          "output_type": "execute_result"
        }
      ],
      "source": [
        "np.random.rand(1, 10, 4) # genera números aleatorios del rango [0,1], en este caso como una matriz de números, generando columnas"
      ]
    },
    {
      "cell_type": "code",
      "execution_count": null,
      "metadata": {
        "colab": {
          "base_uri": "https://localhost:8080/"
        },
        "id": "HOslbMex0UJ9",
        "outputId": "c974e91b-1df0-4709-dce4-1e1c46fd8f0d"
      },
      "outputs": [
        {
          "data": {
            "text/plain": [
              "array([ 4, 96, 73, 88, 93, 21, 60, 81, 36, 93], dtype=int32)"
            ]
          },
          "execution_count": 17,
          "metadata": {},
          "output_type": "execute_result"
        }
      ],
      "source": [
        "np.random.randint(1, 100, 10) # generando 10 números aleatorios del 1 al 100\n",
        "                              # El 1 representa el rango minimo y el 100 el rango maximo, mientras que el 10 es la cantidad de veces que genera estos números"
      ]
    },
    {
      "cell_type": "markdown",
      "metadata": {
        "id": "smxD98X03FOt"
      },
      "source": [
        "### **Método Arange**"
      ]
    },
    {
      "cell_type": "code",
      "execution_count": 18,
      "metadata": {
        "colab": {
          "base_uri": "https://localhost:8080/"
        },
        "id": "pXYPpbJY28VQ",
        "outputId": "8732bb2c-10a7-42a0-d910-1b7c563e6e00"
      },
      "outputs": [
        {
          "data": {
            "text/plain": [
              "array([ 1,  2,  3,  4,  5,  6,  7,  8,  9, 10])"
            ]
          },
          "execution_count": 18,
          "metadata": {},
          "output_type": "execute_result"
        }
      ],
      "source": [
        "arreglo3 = np.arange(1,11)\n",
        "arreglo3"
      ]
    }
  ],
  "metadata": {
    "colab": {
      "provenance": []
    },
    "kernelspec": {
      "display_name": "Python 3",
      "name": "python3"
    },
    "language_info": {
      "codemirror_mode": {
        "name": "ipython",
        "version": 3
      },
      "file_extension": ".py",
      "mimetype": "text/x-python",
      "name": "python",
      "nbconvert_exporter": "python",
      "pygments_lexer": "ipython3",
      "version": "3.13.3"
    }
  },
  "nbformat": 4,
  "nbformat_minor": 0
}
