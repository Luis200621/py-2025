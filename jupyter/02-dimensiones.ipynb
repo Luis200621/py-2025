{
 "cells": [
  {
   "cell_type": "code",
   "execution_count": 2,
   "id": "ba56a619",
   "metadata": {},
   "outputs": [],
   "source": [
    "import numpy as np"
   ]
  },
  {
   "cell_type": "markdown",
   "id": "f7b0eb39",
   "metadata": {},
   "source": [
    "### **Generando un vector de 12 números enteros con Random**"
   ]
  },
  {
   "cell_type": "code",
   "execution_count": 7,
   "id": "d63441c9",
   "metadata": {},
   "outputs": [
    {
     "data": {
      "text/plain": [
       "array([ 9,  3,  3,  3, 10,  5,  3,  1,  7,  6,  7,  5], dtype=int32)"
      ]
     },
     "execution_count": 7,
     "metadata": {},
     "output_type": "execute_result"
    }
   ],
   "source": [
    "vector = np.random.randint(1, 11, 12) # Tercer parametro se coloca la cantidad de elementos que tendrá el vector\n",
    "vector"
   ]
  },
  {
   "cell_type": "markdown",
   "id": "4b4206e2",
   "metadata": {},
   "source": [
    "### **Obtención de la Dimensión de un Arreglo**"
   ]
  },
  {
   "cell_type": "code",
   "execution_count": 8,
   "id": "ad79fbb2",
   "metadata": {},
   "outputs": [
    {
     "data": {
      "text/plain": [
       "(12,)"
      ]
     },
     "execution_count": 8,
     "metadata": {},
     "output_type": "execute_result"
    }
   ],
   "source": [
    "np.shape(vector)"
   ]
  },
  {
   "cell_type": "markdown",
   "id": "c0fa6d43",
   "metadata": {},
   "source": [
    "### **Transformar un Vector Aleatorio de 12 elementos en una Matriz 4x3**\n",
    "\n",
    "el método reshape() redimensiona una estructura"
   ]
  },
  {
   "cell_type": "code",
   "execution_count": 9,
   "id": "4a8f54aa",
   "metadata": {},
   "outputs": [
    {
     "data": {
      "text/plain": [
       "array([[ 9,  3,  3],\n",
       "       [ 3, 10,  5],\n",
       "       [ 3,  1,  7],\n",
       "       [ 6,  7,  5]], dtype=int32)"
      ]
     },
     "execution_count": 9,
     "metadata": {},
     "output_type": "execute_result"
    }
   ],
   "source": [
    "matriz = vector.reshape(4,3)\n",
    "matriz"
   ]
  },
  {
   "cell_type": "markdown",
   "id": "ab420b42",
   "metadata": {},
   "source": [
    "### **Otra variante de Matriz (6x2) generada a partir del vector**"
   ]
  },
  {
   "cell_type": "code",
   "execution_count": 10,
   "id": "3491f81e",
   "metadata": {},
   "outputs": [
    {
     "data": {
      "text/plain": [
       "array([[ 9,  3],\n",
       "       [ 3,  3],\n",
       "       [10,  5],\n",
       "       [ 3,  1],\n",
       "       [ 7,  6],\n",
       "       [ 7,  5]], dtype=int32)"
      ]
     },
     "execution_count": 10,
     "metadata": {},
     "output_type": "execute_result"
    }
   ],
   "source": [
    "matriz2 = vector.reshape(6,2)\n",
    "matriz2"
   ]
  },
  {
   "cell_type": "markdown",
   "id": "94fd43e9",
   "metadata": {},
   "source": [
    "### **Volviendo a consultar la dimensión pero de la Matriz**"
   ]
  },
  {
   "cell_type": "code",
   "execution_count": 11,
   "id": "d9f47cd9",
   "metadata": {},
   "outputs": [
    {
     "data": {
      "text/plain": [
       "(4, 3)"
      ]
     },
     "execution_count": 11,
     "metadata": {},
     "output_type": "execute_result"
    }
   ],
   "source": [
    "np.shape(matriz)"
   ]
  },
  {
   "cell_type": "code",
   "execution_count": null,
   "id": "6cd71ba5",
   "metadata": {},
   "outputs": [],
   "source": []
  },
  {
   "cell_type": "markdown",
   "id": "5d5c9a50",
   "metadata": {},
   "source": [
    "### **Creando un Tensor (4D)**"
   ]
  },
  {
   "cell_type": "code",
   "execution_count": 12,
   "id": "0b049e63",
   "metadata": {},
   "outputs": [
    {
     "data": {
      "text/plain": [
       "[[[[1, 2, 3], [4, 5, 6], [7, 8, 9]]]]"
      ]
     },
     "execution_count": 12,
     "metadata": {},
     "output_type": "execute_result"
    }
   ],
   "source": [
    "tensor = [[[[1,2,3],[4,5,6],[7,8,9]]]]\n",
    "tensor"
   ]
  },
  {
   "cell_type": "markdown",
   "id": "c09f3250",
   "metadata": {},
   "source": [
    "### **Conociendo la biblioteca Matplotlib**\n",
    "El paquete matplotlib permite crear visualizaciones (gráficos) para interpetrar resultados y data."
   ]
  },
  {
   "cell_type": "code",
   "execution_count": 13,
   "id": "74295c06",
   "metadata": {},
   "outputs": [],
   "source": [
    "import matplotlib.pyplot as plt"
   ]
  },
  {
   "cell_type": "markdown",
   "id": "f5e08efd",
   "metadata": {},
   "source": [
    "**Creando un Gráfico Simple**"
   ]
  },
  {
   "cell_type": "code",
   "execution_count": 14,
   "id": "6fac2cd9",
   "metadata": {},
   "outputs": [],
   "source": [
    "vector1 = np.random.randint(1, 11, 12)\n",
    "vector2 = np.random.randint(5, 21, 12) "
   ]
  },
  {
   "cell_type": "code",
   "execution_count": 4,
   "id": "5a89bd0d",
   "metadata": {},
   "outputs": [
    {
     "ename": "NameError",
     "evalue": "name 'plt' is not defined",
     "output_type": "error",
     "traceback": [
      "\u001b[31m---------------------------------------------------------------------------\u001b[39m",
      "\u001b[31mNameError\u001b[39m                                 Traceback (most recent call last)",
      "\u001b[36mCell\u001b[39m\u001b[36m \u001b[39m\u001b[32mIn[4]\u001b[39m\u001b[32m, line 1\u001b[39m\n\u001b[32m----> \u001b[39m\u001b[32m1\u001b[39m \u001b[43mplt\u001b[49m.plot(vector1, marker =\u001b[33m'\u001b[39m\u001b[33mo\u001b[39m\u001b[33m'\u001b[39m, label = \u001b[33m\"\u001b[39m\u001b[33mVector 1\u001b[39m\u001b[33m\"\u001b[39m)\n\u001b[32m      2\u001b[39m plt.plot(vector2, marker =\u001b[33m'\u001b[39m\u001b[33mo\u001b[39m\u001b[33m'\u001b[39m, label = \u001b[33m\"\u001b[39m\u001b[33mVector 2\u001b[39m\u001b[33m\"\u001b[39m )\n\u001b[32m      4\u001b[39m plt.title(\u001b[33m\"\u001b[39m\u001b[33mGráfico del Vector\u001b[39m\u001b[33m\"\u001b[39m)\n",
      "\u001b[31mNameError\u001b[39m: name 'plt' is not defined"
     ]
    }
   ],
   "source": [
    "plt.plot(vector1, marker ='o', label = \"Vector 1\")\n",
    "plt.plot(vector2, marker ='o', label = \"Vector 2\" )\n",
    "\n",
    "plt.title(\"Gráfico del Vector\")\n",
    "plt.xlabel(\"Índice (Posición)\") # Agrega el título del eje x\n",
    "plt.ylabel(\"Valores\") # Agrega el titulo del eje y\n",
    "\n",
    "plt.grid(True) # Para agregar una grilla al gráfico (Los cuadritos)\n",
    "plt.legend()\n",
    "\n",
    "plt.show() # Permite visualizar el gráfico"
   ]
  },
  {
   "cell_type": "markdown",
   "id": "ad95d52f",
   "metadata": {},
   "source": [
    "**Creando un Gráfico de Barra**\n",
    "\n",
    "Un gráfico  de barra con los vectores antes mencionados"
   ]
  },
  {
   "cell_type": "code",
   "execution_count": 16,
   "id": "6fa42bdb",
   "metadata": {},
   "outputs": [
    {
     "data": {
      "text/plain": [
       "<BarContainer object of 12 artists>"
      ]
     },
     "execution_count": 16,
     "metadata": {},
     "output_type": "execute_result"
    },
    {
     "data": {
      "image/png": "[encoded data removed]",
      "text/plain": [
       "<Figure size 640x480 with 1 Axes>"
      ]
     },
     "metadata": {},
     "output_type": "display_data"
    }
   ],
   "source": [
    "plt.bar(range(len(vector2)), vector1)"
   ]
  }
 ],
 "metadata": {
  "kernelspec": {
   "display_name": "Python 3",
   "language": "python",
   "name": "python3"
  },
  "language_info": {
   "codemirror_mode": {
    "name": "ipython",
    "version": 3
   },
   "file_extension": ".py",
   "mimetype": "text/x-python",
   "name": "python",
   "nbconvert_exporter": "python",
   "pygments_lexer": "ipython3",
   "version": "3.13.5"
  }
 },
 "nbformat": 4,
 "nbformat_minor": 5
}
